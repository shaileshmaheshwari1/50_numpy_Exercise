{
 "cells": [
  {
   "cell_type": "code",
   "execution_count": 1,
   "id": "485dfd3e",
   "metadata": {},
   "outputs": [],
   "source": [
    "import numpy as np"
   ]
  },
  {
   "cell_type": "code",
   "execution_count": 2,
   "id": "0e80de53",
   "metadata": {},
   "outputs": [
    {
     "name": "stdout",
     "output_type": "stream",
     "text": [
      "1.24.3\n",
      "blas_armpl_info:\n",
      "  NOT AVAILABLE\n",
      "blas_mkl_info:\n",
      "    libraries = ['mkl_rt']\n",
      "    library_dirs = ['C:/Users/Sonu/anaconda3\\\\Library\\\\lib']\n",
      "    define_macros = [('SCIPY_MKL_H', None), ('HAVE_CBLAS', None)]\n",
      "    include_dirs = ['C:/Users/Sonu/anaconda3\\\\Library\\\\include']\n",
      "blas_opt_info:\n",
      "    libraries = ['mkl_rt']\n",
      "    library_dirs = ['C:/Users/Sonu/anaconda3\\\\Library\\\\lib']\n",
      "    define_macros = [('SCIPY_MKL_H', None), ('HAVE_CBLAS', None)]\n",
      "    include_dirs = ['C:/Users/Sonu/anaconda3\\\\Library\\\\include']\n",
      "lapack_armpl_info:\n",
      "  NOT AVAILABLE\n",
      "lapack_mkl_info:\n",
      "    libraries = ['mkl_rt']\n",
      "    library_dirs = ['C:/Users/Sonu/anaconda3\\\\Library\\\\lib']\n",
      "    define_macros = [('SCIPY_MKL_H', None), ('HAVE_CBLAS', None)]\n",
      "    include_dirs = ['C:/Users/Sonu/anaconda3\\\\Library\\\\include']\n",
      "lapack_opt_info:\n",
      "    libraries = ['mkl_rt']\n",
      "    library_dirs = ['C:/Users/Sonu/anaconda3\\\\Library\\\\lib']\n",
      "    define_macros = [('SCIPY_MKL_H', None), ('HAVE_CBLAS', None)]\n",
      "    include_dirs = ['C:/Users/Sonu/anaconda3\\\\Library\\\\include']\n",
      "Supported SIMD extensions in this NumPy install:\n",
      "    baseline = SSE,SSE2,SSE3\n",
      "    found = SSSE3,SSE41,POPCNT,SSE42,AVX,F16C,FMA3,AVX2,AVX512F,AVX512CD,AVX512_SKX,AVX512_CLX,AVX512_CNL,AVX512_ICL\n",
      "    not found = \n"
     ]
    }
   ],
   "source": [
    "#Print the numpy version and the configuration\n",
    "print(np.__version__)\n",
    "np.show_config()"
   ]
  },
  {
   "cell_type": "code",
   "execution_count": 3,
   "id": "cc38254b",
   "metadata": {},
   "outputs": [
    {
     "data": {
      "text/plain": [
       "array([0., 0., 0., 0., 0., 0., 0., 0., 0., 0.])"
      ]
     },
     "execution_count": 3,
     "metadata": {},
     "output_type": "execute_result"
    }
   ],
   "source": [
    "#Create a null vector of size 10\n",
    "z=np.zeros(10)\n",
    "z"
   ]
  },
  {
   "cell_type": "code",
   "execution_count": 4,
   "id": "af5321da",
   "metadata": {},
   "outputs": [
    {
     "data": {
      "text/plain": [
       "array([0., 0., 0., 0., 1., 0., 0., 0., 0., 0.])"
      ]
     },
     "execution_count": 4,
     "metadata": {},
     "output_type": "execute_result"
    }
   ],
   "source": [
    "# Create a null vector of size 10 but the fifth value which is 1\n",
    "z=np.zeros(10)\n",
    "z[4]=1\n",
    "z"
   ]
  },
  {
   "cell_type": "code",
   "execution_count": 5,
   "id": "b1c5bdd0",
   "metadata": {},
   "outputs": [
    {
     "data": {
      "text/plain": [
       "array([10, 11, 12, 13, 14, 15, 16, 17, 18, 19, 20, 21, 22, 23, 24, 25, 26,\n",
       "       27, 28, 29, 30, 31, 32, 33, 34, 35, 36, 37, 38, 39, 40, 41, 42, 43,\n",
       "       44, 45, 46, 47, 48, 49])"
      ]
     },
     "execution_count": 5,
     "metadata": {},
     "output_type": "execute_result"
    }
   ],
   "source": [
    "# Create a vector with values ranging from 10 to 49\n",
    "s = np.arange(10,50)\n",
    "s"
   ]
  },
  {
   "cell_type": "code",
   "execution_count": 6,
   "id": "e06c2a4e",
   "metadata": {},
   "outputs": [
    {
     "data": {
      "text/plain": [
       "array([49, 48, 47, 46, 45, 44, 43, 42, 41, 40, 39, 38, 37, 36, 35, 34, 33,\n",
       "       32, 31, 30, 29, 28, 27, 26, 25, 24, 23, 22, 21, 20, 19, 18, 17, 16,\n",
       "       15, 14, 13, 12, 11, 10])"
      ]
     },
     "execution_count": 6,
     "metadata": {},
     "output_type": "execute_result"
    }
   ],
   "source": [
    "# Reverse a vector (first element becomes last) \n",
    "s[::-1]"
   ]
  },
  {
   "cell_type": "code",
   "execution_count": 7,
   "id": "28bdb00c",
   "metadata": {},
   "outputs": [
    {
     "data": {
      "text/plain": [
       "array([[0, 1, 2],\n",
       "       [3, 4, 5],\n",
       "       [6, 7, 8]])"
      ]
     },
     "execution_count": 7,
     "metadata": {},
     "output_type": "execute_result"
    }
   ],
   "source": [
    "#Create a 3x3 matrix with values ranging from 0 to 8\n",
    "s1=np.arange(9).reshape(3,3)\n",
    "s1"
   ]
  },
  {
   "cell_type": "code",
   "execution_count": 8,
   "id": "a230830a",
   "metadata": {},
   "outputs": [
    {
     "data": {
      "text/plain": [
       "(array([0, 1, 4], dtype=int64),)"
      ]
     },
     "execution_count": 8,
     "metadata": {},
     "output_type": "execute_result"
    }
   ],
   "source": [
    "#Find indices of non-zero elements from [1,2,0,0,4,0] \n",
    "np.nonzero([1,2,0,0,4,0])"
   ]
  },
  {
   "cell_type": "code",
   "execution_count": 9,
   "id": "855b31fb",
   "metadata": {},
   "outputs": [
    {
     "data": {
      "text/plain": [
       "array([[1., 0., 0.],\n",
       "       [0., 1., 0.],\n",
       "       [0., 0., 1.]])"
      ]
     },
     "execution_count": 9,
     "metadata": {},
     "output_type": "execute_result"
    }
   ],
   "source": [
    "#Create a 3x3 identity matrix\n",
    "np.eye(3,3)"
   ]
  },
  {
   "cell_type": "code",
   "execution_count": 10,
   "id": "5bbbba54",
   "metadata": {},
   "outputs": [
    {
     "data": {
      "text/plain": [
       "array([[[0.33926422, 0.62242907, 0.17395027],\n",
       "        [0.0884108 , 0.95398783, 0.15917521],\n",
       "        [0.62458978, 0.82888637, 0.98984886]],\n",
       "\n",
       "       [[0.70956438, 0.02457239, 0.29453832],\n",
       "        [0.182937  , 0.36161897, 0.67259224],\n",
       "        [0.28137842, 0.96581399, 0.21045344]],\n",
       "\n",
       "       [[0.56928512, 0.22293591, 0.68760137],\n",
       "        [0.49426914, 0.61699396, 0.9351502 ],\n",
       "        [0.52325375, 0.40079631, 0.5563103 ]]])"
      ]
     },
     "execution_count": 10,
     "metadata": {},
     "output_type": "execute_result"
    }
   ],
   "source": [
    "#Create a 3x3x3 array with random values\n",
    "np.random.random((3,3,3))"
   ]
  },
  {
   "cell_type": "code",
   "execution_count": 11,
   "id": "9dd69496",
   "metadata": {},
   "outputs": [
    {
     "name": "stdout",
     "output_type": "stream",
     "text": [
      "0.9888789559816324\n",
      "0.008625723554431919\n"
     ]
    }
   ],
   "source": [
    "#Create a 10x10 array with random values and find the minimum and maximum values\n",
    "s=np.random.random((10,10))\n",
    "print(np.max(s))\n",
    "print(np.min(s))"
   ]
  },
  {
   "cell_type": "code",
   "execution_count": 12,
   "id": "80717c8a",
   "metadata": {},
   "outputs": [
    {
     "data": {
      "text/plain": [
       "0.43323710584710456"
      ]
     },
     "execution_count": 12,
     "metadata": {},
     "output_type": "execute_result"
    }
   ],
   "source": [
    "#Create a random vector of size 30 and find the mean value \n",
    "np.random.random(30).mean()"
   ]
  },
  {
   "cell_type": "code",
   "execution_count": 13,
   "id": "543edc2a",
   "metadata": {},
   "outputs": [
    {
     "data": {
      "text/plain": [
       "array([[1., 1., 1., 1., 1., 1., 1., 1., 1., 1.],\n",
       "       [1., 0., 0., 0., 0., 0., 0., 0., 0., 1.],\n",
       "       [1., 0., 0., 0., 0., 0., 0., 0., 0., 1.],\n",
       "       [1., 0., 0., 0., 0., 0., 0., 0., 0., 1.],\n",
       "       [1., 0., 0., 0., 0., 0., 0., 0., 0., 1.],\n",
       "       [1., 0., 0., 0., 0., 0., 0., 0., 0., 1.],\n",
       "       [1., 0., 0., 0., 0., 0., 0., 0., 0., 1.],\n",
       "       [1., 0., 0., 0., 0., 0., 0., 0., 0., 1.],\n",
       "       [1., 0., 0., 0., 0., 0., 0., 0., 0., 1.],\n",
       "       [1., 1., 1., 1., 1., 1., 1., 1., 1., 1.]])"
      ]
     },
     "execution_count": 13,
     "metadata": {},
     "output_type": "execute_result"
    }
   ],
   "source": [
    "#Create a 2d array with 1 on the border and 0 inside\n",
    "s=np.ones((10,10))\n",
    "s[1:-1,1:-1]=0\n",
    "s"
   ]
  },
  {
   "cell_type": "code",
   "execution_count": 14,
   "id": "bf309a55",
   "metadata": {},
   "outputs": [
    {
     "name": "stdout",
     "output_type": "stream",
     "text": [
      "nan\n",
      "False\n",
      "False\n",
      "nan\n",
      "False\n"
     ]
    }
   ],
   "source": [
    "#What is the result of the following expression?\n",
    "print(0*np.nan)\n",
    "print(np.nan==np.nan)\n",
    "print(np.inf==np.nan)\n",
    "print(np.nan-np.nan)\n",
    "print(0.3==3*0.1)"
   ]
  },
  {
   "cell_type": "code",
   "execution_count": 15,
   "id": "0a1e4787",
   "metadata": {},
   "outputs": [
    {
     "data": {
      "text/plain": [
       "array([[0, 0, 0, 0, 0],\n",
       "       [1, 0, 0, 0, 0],\n",
       "       [0, 2, 0, 0, 0],\n",
       "       [0, 0, 3, 0, 0],\n",
       "       [0, 0, 0, 4, 0]])"
      ]
     },
     "execution_count": 15,
     "metadata": {},
     "output_type": "execute_result"
    }
   ],
   "source": [
    "#Create a 5x5 matrix with values 1,2,3,4 just below the diagonal\n",
    "np.diag(np.arange(1,5),k=-1)"
   ]
  },
  {
   "cell_type": "code",
   "execution_count": 16,
   "id": "ff25a667",
   "metadata": {},
   "outputs": [
    {
     "data": {
      "text/plain": [
       "array([[0., 1., 0., 1., 0., 1., 0., 1.],\n",
       "       [1., 0., 1., 0., 1., 0., 1., 0.],\n",
       "       [0., 1., 0., 1., 0., 1., 0., 1.],\n",
       "       [1., 0., 1., 0., 1., 0., 1., 0.],\n",
       "       [0., 1., 0., 1., 0., 1., 0., 1.],\n",
       "       [1., 0., 1., 0., 1., 0., 1., 0.],\n",
       "       [0., 1., 0., 1., 0., 1., 0., 1.],\n",
       "       [1., 0., 1., 0., 1., 0., 1., 0.]])"
      ]
     },
     "execution_count": 16,
     "metadata": {},
     "output_type": "execute_result"
    }
   ],
   "source": [
    "#Create a 8x8 matrix and fill it with a checkerboard pattern\n",
    "s=np.zeros((8,8))\n",
    "s[1::2,::2]=1\n",
    "s[::2,1::2]=1\n",
    "s"
   ]
  },
  {
   "cell_type": "code",
   "execution_count": 17,
   "id": "f1884618",
   "metadata": {},
   "outputs": [
    {
     "name": "stdout",
     "output_type": "stream",
     "text": [
      "(1, 5, 4)\n"
     ]
    }
   ],
   "source": [
    "#Consider a (6,7,8) shape array, what is the index (x,y,z) of the 100th element?\n",
    "print(np.unravel_index(100,(6,7,8)))"
   ]
  },
  {
   "cell_type": "code",
   "execution_count": 18,
   "id": "3f03fdd5",
   "metadata": {},
   "outputs": [
    {
     "data": {
      "text/plain": [
       "array([[[0.74873867, 0.61208405],\n",
       "        [0.81757109, 0.17852249],\n",
       "        [0.51736952, 0.60700347]],\n",
       "\n",
       "       [[0.12881906, 0.43487691],\n",
       "        [0.05840903, 0.0222857 ],\n",
       "        [0.4152758 , 0.37240268]]])"
      ]
     },
     "execution_count": 18,
     "metadata": {},
     "output_type": "execute_result"
    }
   ],
   "source": [
    "np.random.random((2,3,2))"
   ]
  },
  {
   "cell_type": "code",
   "execution_count": 19,
   "id": "42c3ae1e",
   "metadata": {},
   "outputs": [
    {
     "name": "stdout",
     "output_type": "stream",
     "text": [
      "(1, 1, 1)\n"
     ]
    }
   ],
   "source": [
    "print(np.unravel_index(9,(2,3,2)))"
   ]
  },
  {
   "cell_type": "code",
   "execution_count": 20,
   "id": "eb304ec1",
   "metadata": {},
   "outputs": [
    {
     "data": {
      "text/plain": [
       "array([[0, 1, 0, 1, 0, 1, 0, 1],\n",
       "       [1, 0, 1, 0, 1, 0, 1, 0],\n",
       "       [0, 1, 0, 1, 0, 1, 0, 1],\n",
       "       [1, 0, 1, 0, 1, 0, 1, 0],\n",
       "       [0, 1, 0, 1, 0, 1, 0, 1],\n",
       "       [1, 0, 1, 0, 1, 0, 1, 0],\n",
       "       [0, 1, 0, 1, 0, 1, 0, 1],\n",
       "       [1, 0, 1, 0, 1, 0, 1, 0]])"
      ]
     },
     "execution_count": 20,
     "metadata": {},
     "output_type": "execute_result"
    }
   ],
   "source": [
    "# Create a checkerboard 8x8 matrix using the tile function\n",
    "np.tile(np.array([[0,1],[1,0]]),(4,4))"
   ]
  },
  {
   "cell_type": "code",
   "execution_count": 21,
   "id": "fc595d3b",
   "metadata": {},
   "outputs": [
    {
     "data": {
      "text/plain": [
       "array([[0.44186566, 0.24036401, 0.61241304, 0.06078184, 0.91978054],\n",
       "       [0.43493232, 0.177814  , 0.84821531, 0.54095366, 1.        ],\n",
       "       [0.87957517, 0.45343576, 0.60952179, 0.39514072, 0.58989476],\n",
       "       [0.16427051, 0.15981034, 0.22084356, 0.        , 0.87660854],\n",
       "       [0.77706923, 0.01777612, 0.08820807, 0.75027139, 0.23197803]])"
      ]
     },
     "execution_count": 21,
     "metadata": {},
     "output_type": "execute_result"
    }
   ],
   "source": [
    "# Normalize a 5x5 random matrix\n",
    "a=np.random.random((5,5))\n",
    "norm = (a-np.min(a))/(np.max(a)-np.min(a))\n",
    "norm"
   ]
  },
  {
   "cell_type": "code",
   "execution_count": 22,
   "id": "14e6ad98",
   "metadata": {},
   "outputs": [
    {
     "name": "stderr",
     "output_type": "stream",
     "text": [
      "C:\\Users\\Sonu\\AppData\\Local\\Temp\\ipykernel_11744\\160993759.py:2: FutureWarning: Passing (type, 1) or '1type' as a synonym of type is deprecated; in a future version of numpy, it will be understood as (type, (1,)) / '(1,)type'.\n",
      "  color = np.dtype([(\"r\",np.ubyte,1),\n"
     ]
    },
    {
     "data": {
      "text/plain": [
       "dtype([('r', 'u1'), ('g', 'u1'), ('b', 'u1'), ('a', 'u1')])"
      ]
     },
     "execution_count": 22,
     "metadata": {},
     "output_type": "execute_result"
    }
   ],
   "source": [
    "# Create a custom dtype that describes a color as four unisgned bytes (RGBA)\n",
    "color = np.dtype([(\"r\",np.ubyte,1),\n",
    "                 (\"g\",np.ubyte,1),\n",
    "                 (\"b\",np.ubyte,1),\n",
    "                 (\"a\",np.ubyte,1),])\n",
    "color"
   ]
  },
  {
   "cell_type": "code",
   "execution_count": 23,
   "id": "d6f8fab4",
   "metadata": {},
   "outputs": [
    {
     "data": {
      "text/plain": [
       "array([[3., 3.],\n",
       "       [3., 3.],\n",
       "       [3., 3.],\n",
       "       [3., 3.],\n",
       "       [3., 3.]])"
      ]
     },
     "execution_count": 23,
     "metadata": {},
     "output_type": "execute_result"
    }
   ],
   "source": [
    "# Multiply a 5x3 matrix by a 3x2 matrix (real matrix product)\n",
    "np.dot(np.ones((5,3)),np.ones((3,2)))"
   ]
  },
  {
   "cell_type": "code",
   "execution_count": 24,
   "id": "af935383",
   "metadata": {},
   "outputs": [
    {
     "data": {
      "text/plain": [
       "array([ 0,  1,  2,  3, -4, -5, -6, -7,  8,  9, 10])"
      ]
     },
     "execution_count": 24,
     "metadata": {},
     "output_type": "execute_result"
    }
   ],
   "source": [
    "# Given a 1D array, negate all elements which are between 3 and 8, in place\n",
    "z=np.arange(11)\n",
    "z[(z>3)&(z<8)]*=-1\n",
    "z"
   ]
  },
  {
   "cell_type": "code",
   "execution_count": 25,
   "id": "423e6e7c",
   "metadata": {},
   "outputs": [
    {
     "name": "stdout",
     "output_type": "stream",
     "text": [
      "9\n",
      "11\n",
      "10\n"
     ]
    }
   ],
   "source": [
    "# What is the output of the following script?\n",
    "print(sum(range(5),-1))\n",
    "print(sum(range(5),1))\n",
    "print(sum(range(5)))"
   ]
  },
  {
   "cell_type": "code",
   "execution_count": 26,
   "id": "99abb48e",
   "metadata": {},
   "outputs": [
    {
     "name": "stdout",
     "output_type": "stream",
     "text": [
      "10\n",
      "10\n"
     ]
    }
   ],
   "source": [
    "from numpy import *\n",
    "print(sum(range(5),-1))\n",
    "print(sum(range(5)))"
   ]
  },
  {
   "cell_type": "code",
   "execution_count": 27,
   "id": "6276f072",
   "metadata": {},
   "outputs": [
    {
     "name": "stdout",
     "output_type": "stream",
     "text": [
      "[[        1         1         4        27       256]\n",
      " [     3125     46656    823543  16777216 387420489]]\n",
      "[[  0   1   2   4   8]\n",
      " [ 16  32  64 128 256]]\n",
      "[[0.+0.j 0.+1.j 0.+2.j 0.+3.j 0.+4.j]\n",
      " [0.+5.j 0.+6.j 0.+7.j 0.+8.j 0.+9.j]]\n",
      "[[0. 1. 2. 3. 4.]\n",
      " [5. 6. 7. 8. 9.]]\n"
     ]
    }
   ],
   "source": [
    "#Consider an integer vector Z, which of these expressions are legal?\n",
    "z=np.arange(10).reshape(2,5)\n",
    "print(z**z)\n",
    "print(2 << z >> 2)\n",
    "print(1j*z)\n",
    "print(z/1/1)\n",
    "# print(z<z>z)"
   ]
  },
  {
   "cell_type": "code",
   "execution_count": 28,
   "id": "f15e2810",
   "metadata": {},
   "outputs": [
    {
     "name": "stdout",
     "output_type": "stream",
     "text": [
      "0\n",
      "nan\n",
      "nan\n",
      "nan\n"
     ]
    },
    {
     "name": "stderr",
     "output_type": "stream",
     "text": [
      "C:\\Users\\Sonu\\AppData\\Local\\Temp\\ipykernel_11744\\450048791.py:2: RuntimeWarning: divide by zero encountered in floor_divide\n",
      "  print(np.array(0)//np.array(0))\n",
      "C:\\Users\\Sonu\\AppData\\Local\\Temp\\ipykernel_11744\\450048791.py:3: RuntimeWarning: invalid value encountered in floor_divide\n",
      "  print(np.array(0)//np.array(0.))\n",
      "C:\\Users\\Sonu\\AppData\\Local\\Temp\\ipykernel_11744\\450048791.py:4: RuntimeWarning: invalid value encountered in divide\n",
      "  print(np.array(0)/np.array(0.))\n",
      "C:\\Users\\Sonu\\AppData\\Local\\Temp\\ipykernel_11744\\450048791.py:5: RuntimeWarning: invalid value encountered in divide\n",
      "  print(np.array(0)/np.array(0))\n"
     ]
    }
   ],
   "source": [
    "# What are the result of the following expressions?\n",
    "print(np.array(0)//np.array(0))\n",
    "print(np.array(0)//np.array(0.))\n",
    "print(np.array(0)/np.array(0.))\n",
    "print(np.array(0)/np.array(0))"
   ]
  },
  {
   "cell_type": "code",
   "execution_count": 29,
   "id": "9f6a8500",
   "metadata": {},
   "outputs": [
    {
     "name": "stdout",
     "output_type": "stream",
     "text": [
      "[-9.  4.  3. -4. -6.  6. -1. -0.  0.  4.]\n"
     ]
    }
   ],
   "source": [
    "# How to round away from zero a float array ?\n",
    "Z = np.random.uniform(-10,+10,10)\n",
    "print (np.trunc(Z + np.copysign(0.5, Z)))"
   ]
  },
  {
   "cell_type": "code",
   "execution_count": 30,
   "id": "88c17934",
   "metadata": {},
   "outputs": [
    {
     "name": "stdout",
     "output_type": "stream",
     "text": [
      "[1. 1. 9. 2. 8. 3. 1. 4. 3. 3.]\n",
      "[1. 1. 9. 2. 8. 3. 1. 4. 3. 3.]\n",
      "[1. 1. 9. 2. 8. 3. 1. 4. 3. 3.]\n",
      "[1 1 9 2 8 3 1 4 3 3]\n",
      "[1. 1. 9. 2. 8. 3. 1. 4. 3. 3.]\n"
     ]
    }
   ],
   "source": [
    "# . Extract the integer part of a random array using 5 different methods\n",
    "Z = np.random.uniform(0,10,10)\n",
    "print (Z - Z%1)\n",
    "print (np.floor(Z))\n",
    "print (np.ceil(Z)-1)\n",
    "print (Z.astype(int))\n",
    "print (np.trunc(Z))"
   ]
  },
  {
   "cell_type": "code",
   "execution_count": 31,
   "id": "9fa7358f",
   "metadata": {},
   "outputs": [
    {
     "data": {
      "text/plain": [
       "array([[0., 1., 2., 3., 4.],\n",
       "       [0., 1., 2., 3., 4.],\n",
       "       [0., 1., 2., 3., 4.],\n",
       "       [0., 1., 2., 3., 4.],\n",
       "       [0., 1., 2., 3., 4.]])"
      ]
     },
     "execution_count": 31,
     "metadata": {},
     "output_type": "execute_result"
    }
   ],
   "source": [
    "# Create a 5x5 matrix with row values ranging from 0 to 4\n",
    "z = np.zeros((5,5))\n",
    "z+=np.arange(0,5)\n",
    "z"
   ]
  },
  {
   "cell_type": "code",
   "execution_count": 32,
   "id": "90f77bfd",
   "metadata": {},
   "outputs": [
    {
     "data": {
      "text/plain": [
       "array([ 0.,  1.,  2.,  3.,  4.,  5.,  6.,  7.,  8.,  9., 10.])"
      ]
     },
     "execution_count": 32,
     "metadata": {},
     "output_type": "execute_result"
    }
   ],
   "source": [
    "# Consider a generator function that generates 10 integers and use it to build anarray\n",
    "def generator():\n",
    "    for i in range(11):\n",
    "        yield i\n",
    "    \n",
    "z = np.fromiter(generator(),dtype=float,count=-1)\n",
    "z"
   ]
  },
  {
   "cell_type": "code",
   "execution_count": 33,
   "id": "4d8ddc94",
   "metadata": {},
   "outputs": [
    {
     "name": "stdout",
     "output_type": "stream",
     "text": [
      "[0.09090909 0.18181818 0.27272727 0.36363636 0.45454545 0.54545455\n",
      " 0.63636364 0.72727273 0.81818182 0.90909091]\n"
     ]
    }
   ],
   "source": [
    "# Create a vector of size 10 with values ranging from 0 to 1, both excluded\n",
    "z=np.linspace(0,1,12,endpoint=True)[1:-1]\n",
    "print(z)"
   ]
  },
  {
   "cell_type": "code",
   "execution_count": 34,
   "id": "fd744828",
   "metadata": {},
   "outputs": [
    {
     "data": {
      "text/plain": [
       "array([0.05039182, 0.11054267, 0.18346799, 0.20448364, 0.24055145,\n",
       "       0.24822495, 0.25441406, 0.44816305, 0.57309158, 0.73591324])"
      ]
     },
     "execution_count": 34,
     "metadata": {},
     "output_type": "execute_result"
    }
   ],
   "source": [
    "#Create a random vector of size 10 and sort it \n",
    "np.sort(np.random.random(10))"
   ]
  },
  {
   "cell_type": "code",
   "execution_count": 35,
   "id": "bf4c2dbc",
   "metadata": {},
   "outputs": [
    {
     "data": {
      "text/plain": [
       "45"
      ]
     },
     "execution_count": 35,
     "metadata": {},
     "output_type": "execute_result"
    }
   ],
   "source": [
    "#How to sum a small array faster than np.sum?\n",
    "z=np.arange(10)\n",
    "np.add.reduce(z)"
   ]
  },
  {
   "cell_type": "code",
   "execution_count": 36,
   "id": "f739cfaa",
   "metadata": {},
   "outputs": [
    {
     "data": {
      "text/plain": [
       "False"
      ]
     },
     "execution_count": 36,
     "metadata": {},
     "output_type": "execute_result"
    }
   ],
   "source": [
    "# Consider two random array A anb B, check if they are equal \n",
    "a = np.random.randint(0,2,5)\n",
    "b = np.random.randint(0,2,5)\n",
    "np.allclose(a,b)\n"
   ]
  },
  {
   "cell_type": "code",
   "execution_count": 37,
   "id": "dc9b4051",
   "metadata": {},
   "outputs": [
    {
     "ename": "ValueError",
     "evalue": "assignment destination is read-only",
     "output_type": "error",
     "traceback": [
      "\u001b[1;31m---------------------------------------------------------------------------\u001b[0m",
      "\u001b[1;31mValueError\u001b[0m                                Traceback (most recent call last)",
      "Input \u001b[1;32mIn [37]\u001b[0m, in \u001b[0;36m<cell line: 4>\u001b[1;34m()\u001b[0m\n\u001b[0;32m      2\u001b[0m z \u001b[38;5;241m=\u001b[39m np\u001b[38;5;241m.\u001b[39mzeros(\u001b[38;5;241m10\u001b[39m)\n\u001b[0;32m      3\u001b[0m z\u001b[38;5;241m.\u001b[39mflags\u001b[38;5;241m.\u001b[39mwriteable\u001b[38;5;241m=\u001b[39m\u001b[38;5;28;01mFalse\u001b[39;00m\n\u001b[1;32m----> 4\u001b[0m z[\u001b[38;5;241m0\u001b[39m]\u001b[38;5;241m=\u001b[39m\u001b[38;5;241m1\u001b[39m\n",
      "\u001b[1;31mValueError\u001b[0m: assignment destination is read-only"
     ]
    }
   ],
   "source": [
    "# Make an array immutable (read­only) \n",
    "z = np.zeros(10)\n",
    "z.flags.writeable=False\n",
    "z[0]=1"
   ]
  },
  {
   "cell_type": "code",
   "execution_count": 38,
   "id": "e46f9dd2",
   "metadata": {},
   "outputs": [
    {
     "data": {
      "text/plain": [
       "array([0.        , 0.84593822, 0.54711495, 0.38919332, 0.77316521,\n",
       "       0.15105324, 0.35217051, 0.46587252, 0.45239102, 0.29706054])"
      ]
     },
     "execution_count": 38,
     "metadata": {},
     "output_type": "execute_result"
    }
   ],
   "source": [
    "# Create random vector of size 10 and replace the maximum value by 0\n",
    "a = np.random.random(10)\n",
    "a[a.argmax()]=0\n",
    "a"
   ]
  },
  {
   "cell_type": "code",
   "execution_count": 39,
   "id": "788cb117",
   "metadata": {},
   "outputs": [
    {
     "name": "stdout",
     "output_type": "stream",
     "text": [
      "[0 1 2 3 4 5 6 7 8 9]\n"
     ]
    }
   ],
   "source": [
    "# How to convert a float (32 bits) array into an integer (32 bits) in place?\n",
    "z = np.arange(10,dtype=np.float32)\n",
    "print(z.astype('int32'))"
   ]
  },
  {
   "cell_type": "code",
   "execution_count": 40,
   "id": "e7dd7de4",
   "metadata": {},
   "outputs": [
    {
     "data": {
      "text/plain": [
       "array([[nan,  2.,  3.,  4.,  5.],\n",
       "       [ 6., nan, nan,  7.,  8.],\n",
       "       [nan, nan,  9., 10., nan]])"
      ]
     },
     "execution_count": 40,
     "metadata": {},
     "output_type": "execute_result"
    }
   ],
   "source": [
    "# How to read the following file?\n",
    "\n",
    "# # File content:\n",
    "# # -------------\n",
    "# 1,2,3,4,5\n",
    "# 6,,,7,8\n",
    "# ,,9,10,11\n",
    "# # --------\n",
    "\n",
    "\n",
    "a = np.genfromtxt('missin.txt',delimiter=',')\n",
    "a"
   ]
  },
  {
   "cell_type": "code",
   "execution_count": 41,
   "id": "12073675",
   "metadata": {},
   "outputs": [
    {
     "data": {
      "text/plain": [
       "array([[0., 0., 0., 0., 0., 0., 0., 0., 0., 0.],\n",
       "       [0., 0., 0., 0., 0., 0., 0., 0., 0., 0.],\n",
       "       [0., 0., 0., 0., 1., 0., 1., 0., 0., 0.],\n",
       "       [0., 0., 0., 0., 0., 0., 0., 0., 0., 0.],\n",
       "       [0., 0., 0., 0., 0., 0., 0., 0., 0., 0.],\n",
       "       [0., 0., 0., 0., 0., 0., 0., 0., 0., 0.],\n",
       "       [0., 0., 0., 0., 0., 0., 0., 0., 0., 0.],\n",
       "       [0., 0., 0., 0., 1., 0., 0., 0., 0., 0.],\n",
       "       [0., 0., 0., 0., 0., 0., 0., 0., 0., 0.],\n",
       "       [0., 0., 0., 0., 0., 0., 0., 0., 0., 0.]])"
      ]
     },
     "execution_count": 41,
     "metadata": {},
     "output_type": "execute_result"
    }
   ],
   "source": [
    "# How to randomly place p elements in a 2D array?\n",
    "n = 10\n",
    "p = 3\n",
    "z=np.zeros((n,n))\n",
    "np.put(z,np.random.choice(range(n*n),p,replace=False),1)\n",
    "z"
   ]
  },
  {
   "cell_type": "code",
   "execution_count": 42,
   "id": "f1349e03",
   "metadata": {},
   "outputs": [
    {
     "data": {
      "text/plain": [
       "array([[ 0.01455104,  0.08440217,  0.12164486, -0.41009211,  0.05788659,\n",
       "        -0.26307656,  0.32534273, -0.33165629,  0.50879147, -0.10779389],\n",
       "       [-0.01202215,  0.33214865, -0.01706557, -0.12093208, -0.32184358,\n",
       "         0.38741781, -0.32242172,  0.36170812,  0.04452179, -0.33151128],\n",
       "       [-0.34528263,  0.07239446, -0.38446131,  0.24926316,  0.32155117,\n",
       "        -0.16341247,  0.3020089 , -0.39265019, -0.17344177,  0.51403068],\n",
       "       [ 0.42272855,  0.05279973,  0.40345255, -0.50120464,  0.02831058,\n",
       "        -0.126231  , -0.20299338,  0.27878377, -0.38868213,  0.03303598],\n",
       "       [-0.42065018,  0.39980766,  0.36597112, -0.40368259,  0.49710697,\n",
       "        -0.14798622, -0.2770575 , -0.09969768, -0.36906708,  0.4552555 ]])"
      ]
     },
     "execution_count": 42,
     "metadata": {},
     "output_type": "execute_result"
    }
   ],
   "source": [
    "# Subtract the mean of each row of a matrix\n",
    "z = np.random.rand(5,10)\n",
    "z - z.mean(axis=1,keepdims=True)"
   ]
  },
  {
   "cell_type": "code",
   "execution_count": 43,
   "id": "33622758",
   "metadata": {},
   "outputs": [
    {
     "name": "stdout",
     "output_type": "stream",
     "text": [
      "[[4 2 5]\n",
      " [2 5 7]\n",
      " [5 7 9]]\n"
     ]
    }
   ],
   "source": [
    "#  How to I sort an array by the nth column? \n",
    "z = np.random.randint(0,10,(3,3))\n",
    "print(z[z[:,1].argsort()])"
   ]
  },
  {
   "cell_type": "code",
   "execution_count": 44,
   "id": "c3fec5fe",
   "metadata": {},
   "outputs": [
    {
     "name": "stdout",
     "output_type": "stream",
     "text": [
      "False\n"
     ]
    }
   ],
   "source": [
    "#  How to tell if a given 2D array has null columns?\n",
    "z = np.random.randint(0,3,(3,10))\n",
    "print((~z.any(axis=0)).any())"
   ]
  },
  {
   "cell_type": "code",
   "execution_count": 45,
   "id": "7190aea7",
   "metadata": {},
   "outputs": [
    {
     "data": {
      "text/plain": [
       "array([[[1., 1., 1.],\n",
       "        [1., 1., 1.],\n",
       "        [1., 1., 1.],\n",
       "        [1., 1., 1.],\n",
       "        [1., 1., 1.]],\n",
       "\n",
       "       [[1., 1., 1.],\n",
       "        [1., 1., 1.],\n",
       "        [1., 1., 1.],\n",
       "        [1., 1., 1.],\n",
       "        [1., 1., 1.]],\n",
       "\n",
       "       [[1., 1., 1.],\n",
       "        [1., 1., 1.],\n",
       "        [1., 1., 1.],\n",
       "        [1., 1., 1.],\n",
       "        [1., 1., 1.]],\n",
       "\n",
       "       [[1., 1., 1.],\n",
       "        [1., 1., 1.],\n",
       "        [1., 1., 1.],\n",
       "        [1., 1., 1.],\n",
       "        [1., 1., 1.]],\n",
       "\n",
       "       [[1., 1., 1.],\n",
       "        [1., 1., 1.],\n",
       "        [1., 1., 1.],\n",
       "        [1., 1., 1.],\n",
       "        [1., 1., 1.]]])"
      ]
     },
     "execution_count": 45,
     "metadata": {},
     "output_type": "execute_result"
    }
   ],
   "source": [
    "# Consider an array of dimension (5,5,3), how to mulitply it by an array with dimensions (5,5)?\n",
    "z = np.ones((5,5,3))\n",
    "b = np.ones((5,5))\n",
    "z*b[:,:,None]"
   ]
  },
  {
   "cell_type": "code",
   "execution_count": 46,
   "id": "3093e1d5",
   "metadata": {},
   "outputs": [
    {
     "data": {
      "text/plain": [
       "array([[2, 3],\n",
       "       [0, 1],\n",
       "       [4, 5]])"
      ]
     },
     "execution_count": 46,
     "metadata": {},
     "output_type": "execute_result"
    }
   ],
   "source": [
    "# How to swap two rows of an array?\n",
    "a=np.arange(6).reshape(3,2)\n",
    "a[[0,1]]=a[[1,0]]\n",
    "a"
   ]
  },
  {
   "cell_type": "code",
   "execution_count": 47,
   "id": "e30a1a70",
   "metadata": {},
   "outputs": [
    {
     "name": "stdout",
     "output_type": "stream",
     "text": [
      "[1 1 2 3 4 4 6]\n"
     ]
    }
   ],
   "source": [
    "#Given an array C that is a bincount, how to produce an array A such that np.bincount(A) == C?\n",
    "a=np.bincount([1,1,2,3,4,4,6])\n",
    "c=np.repeat(np.arange(len(a)),a)\n",
    "print(c)"
   ]
  },
  {
   "cell_type": "code",
   "execution_count": 48,
   "id": "99241e9f",
   "metadata": {},
   "outputs": [
    {
     "data": {
      "text/plain": [
       "4"
      ]
     },
     "execution_count": 48,
     "metadata": {},
     "output_type": "execute_result"
    }
   ],
   "source": [
    "#How to find the most frequent value in an array?\n",
    "z = np.random.randint(0,10,50)\n",
    "np.bincount(z).argmax()"
   ]
  },
  {
   "cell_type": "code",
   "execution_count": null,
   "id": "6ccabde6",
   "metadata": {},
   "outputs": [],
   "source": []
  },
  {
   "cell_type": "code",
   "execution_count": null,
   "id": "e70c9f98",
   "metadata": {},
   "outputs": [],
   "source": []
  },
  {
   "cell_type": "code",
   "execution_count": null,
   "id": "ed2a85db",
   "metadata": {},
   "outputs": [],
   "source": []
  },
  {
   "cell_type": "code",
   "execution_count": null,
   "id": "92cf788f",
   "metadata": {},
   "outputs": [],
   "source": []
  }
 ],
 "metadata": {
  "kernelspec": {
   "display_name": "Python 3 (ipykernel)",
   "language": "python",
   "name": "python3"
  },
  "language_info": {
   "codemirror_mode": {
    "name": "ipython",
    "version": 3
   },
   "file_extension": ".py",
   "mimetype": "text/x-python",
   "name": "python",
   "nbconvert_exporter": "python",
   "pygments_lexer": "ipython3",
   "version": "3.9.12"
  }
 },
 "nbformat": 4,
 "nbformat_minor": 5
}
